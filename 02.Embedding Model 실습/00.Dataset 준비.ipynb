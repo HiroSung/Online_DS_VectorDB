{
 "cells": [
  {
   "cell_type": "markdown",
   "metadata": {},
   "source": [
    "실습에 활용 될 데이터셋을 소개 드리겠습니다\n",
    "\n",
    "---"
   ]
  },
  {
   "cell_type": "markdown",
   "metadata": {},
   "source": [
    "# 1. The Simpsons dataset"
   ]
  },
  {
   "cell_type": "markdown",
   "metadata": {},
   "source": [
    "![](https://images.edrawmax.com/what-is/simpsons-family-tree/example.png) <br>\n",
    "출처 : https://images.edrawmax.com/what-is/simpsons-family-tree/example.png"
   ]
  },
  {
   "cell_type": "markdown",
   "metadata": {},
   "source": [
    "- 다운로드 : https://www.kaggle.com/datasets/pierremegret/dialogue-lines-of-the-simpsons?resource=download"
   ]
  },
  {
   "cell_type": "markdown",
   "metadata": {},
   "source": [
    "# 2. Quora dataset"
   ]
  },
  {
   "cell_type": "markdown",
   "metadata": {},
   "source": [
    "#### 데이터 소개 : 네이버의 지식IN과 비슷한 목적을 가진 플랫폼인 Quora에서, 유사한 질문들을 모아둔 데이터 셋.\n",
    "#### 데이터 활용 목적 : Embedding을 기반으로 유사한 질문을 탐색하는 실습에 활용"
   ]
  },
  {
   "cell_type": "markdown",
   "metadata": {},
   "source": [
    "- api의 형태로 원본 데이터 다운로드"
   ]
  },
  {
   "cell_type": "code",
   "execution_count": 39,
   "metadata": {},
   "outputs": [],
   "source": [
    "from datasets import load_dataset\n",
    "import pandas as pd\n",
    "\n",
    "dataset = load_dataset(\"quora\")"
   ]
  },
  {
   "cell_type": "code",
   "execution_count": 40,
   "metadata": {},
   "outputs": [],
   "source": [
    "raw_df = dataset[\"train\"].to_pandas()"
   ]
  },
  {
   "cell_type": "markdown",
   "metadata": {},
   "source": [
    "중복된 질문이라고 체크된 질문들만 선택"
   ]
  },
  {
   "cell_type": "code",
   "execution_count": 42,
   "metadata": {},
   "outputs": [],
   "source": [
    "raw_df = raw_df.loc[raw_df['is_duplicate']==True].reset_index(drop=True)"
   ]
  },
  {
   "cell_type": "code",
   "execution_count": 43,
   "metadata": {},
   "outputs": [
    {
     "data": {
      "text/plain": [
       "{'id': array([1, 2], dtype=int32),\n",
       " 'text': array(['What is the step by step guide to invest in share market in india?',\n",
       "        'What is the step by step guide to invest in share market?'],\n",
       "       dtype=object)}"
      ]
     },
     "execution_count": 43,
     "metadata": {},
     "output_type": "execute_result"
    }
   ],
   "source": [
    "raw_df.loc[0, 'questions']"
   ]
  },
  {
   "cell_type": "code",
   "execution_count": 44,
   "metadata": {},
   "outputs": [],
   "source": [
    "# 중복되는 id를 개별 컬럼으로 배치\n",
    "raw_df[\"q1\"] = raw_df[\"questions\"].apply(lambda q: q[\"text\"][0])\n",
    "raw_df[\"q2\"] = raw_df[\"questions\"].apply(lambda q: q[\"text\"][1])\n",
    "raw_df[\"id1\"] = raw_df[\"questions\"].apply(lambda q: q[\"id\"][0])\n",
    "raw_df[\"id2\"] = raw_df[\"questions\"].apply(lambda q: q[\"id\"][1])\n",
    "\n",
    "q1_to_q2 = raw_df.copy().rename(columns={\"q1\": \"text\", \"id1\": \"id\", \"id2\": \"dq_id\"}).drop(columns=[\"questions\", \"q2\"])\n",
    "q2_to_q1 = raw_df.copy().rename(columns={\"q2\": \"text\", \"id2\": \"id\", \"id1\": \"dq_id\"}).drop(columns=[\"questions\", \"q1\"])\n",
    "flat_df = pd.concat([q1_to_q2, q2_to_q1])\n",
    "\n",
    "flat_df = flat_df.sort_values(by=['id']).reset_index(drop=True)"
   ]
  },
  {
   "cell_type": "code",
   "execution_count": 45,
   "metadata": {},
   "outputs": [
    {
     "data": {
      "text/html": [
       "<div>\n",
       "<style scoped>\n",
       "    .dataframe tbody tr th:only-of-type {\n",
       "        vertical-align: middle;\n",
       "    }\n",
       "\n",
       "    .dataframe tbody tr th {\n",
       "        vertical-align: top;\n",
       "    }\n",
       "\n",
       "    .dataframe thead th {\n",
       "        text-align: right;\n",
       "    }\n",
       "</style>\n",
       "<table border=\"1\" class=\"dataframe\">\n",
       "  <thead>\n",
       "    <tr style=\"text-align: right;\">\n",
       "      <th></th>\n",
       "      <th>is_duplicate</th>\n",
       "      <th>text</th>\n",
       "      <th>id</th>\n",
       "      <th>dq_id</th>\n",
       "    </tr>\n",
       "  </thead>\n",
       "  <tbody>\n",
       "    <tr>\n",
       "      <th>0</th>\n",
       "      <td>False</td>\n",
       "      <td>What is the step by step guide to invest in sh...</td>\n",
       "      <td>1</td>\n",
       "      <td>2</td>\n",
       "    </tr>\n",
       "    <tr>\n",
       "      <th>1</th>\n",
       "      <td>False</td>\n",
       "      <td>What is the step by step guide to invest in sh...</td>\n",
       "      <td>2</td>\n",
       "      <td>1</td>\n",
       "    </tr>\n",
       "    <tr>\n",
       "      <th>2</th>\n",
       "      <td>False</td>\n",
       "      <td>What is the story of Kohinoor (Koh-i-Noor) Dia...</td>\n",
       "      <td>3</td>\n",
       "      <td>380197</td>\n",
       "    </tr>\n",
       "    <tr>\n",
       "      <th>3</th>\n",
       "      <td>False</td>\n",
       "      <td>What is the story of Kohinoor (Koh-i-Noor) Dia...</td>\n",
       "      <td>3</td>\n",
       "      <td>282170</td>\n",
       "    </tr>\n",
       "    <tr>\n",
       "      <th>4</th>\n",
       "      <td>False</td>\n",
       "      <td>What is the story of Kohinoor (Koh-i-Noor) Dia...</td>\n",
       "      <td>3</td>\n",
       "      <td>488853</td>\n",
       "    </tr>\n",
       "  </tbody>\n",
       "</table>\n",
       "</div>"
      ],
      "text/plain": [
       "   is_duplicate                                               text  id   dq_id\n",
       "0         False  What is the step by step guide to invest in sh...   1       2\n",
       "1         False  What is the step by step guide to invest in sh...   2       1\n",
       "2         False  What is the story of Kohinoor (Koh-i-Noor) Dia...   3  380197\n",
       "3         False  What is the story of Kohinoor (Koh-i-Noor) Dia...   3  282170\n",
       "4         False  What is the story of Kohinoor (Koh-i-Noor) Dia...   3  488853"
      ]
     },
     "execution_count": 45,
     "metadata": {},
     "output_type": "execute_result"
    }
   ],
   "source": [
    "flat_df.head()"
   ]
  },
  {
   "cell_type": "markdown",
   "metadata": {},
   "source": [
    "전체 데이터 중 작은 샘플만 활용"
   ]
  },
  {
   "cell_type": "code",
   "execution_count": 46,
   "metadata": {},
   "outputs": [],
   "source": [
    "flat_df = flat_df.loc[((flat_df['id'] <= 15000) & (flat_df['dq_id'] <= 15000))]"
   ]
  },
  {
   "cell_type": "code",
   "execution_count": 47,
   "metadata": {},
   "outputs": [],
   "source": [
    "# flat_df.loc[flat_df['id']==4310]\n",
    "# flat_df.loc[flat_df['id'].isin([4311, 15621, 147622])]"
   ]
  },
  {
   "cell_type": "code",
   "execution_count": 48,
   "metadata": {},
   "outputs": [
    {
     "name": "stderr",
     "output_type": "stream",
     "text": [
      "/var/folders/qb/pcn25z7557z6y3v_54hpjjxw0000gn/T/ipykernel_656/2070546413.py:4: SettingWithCopyWarning: \n",
      "A value is trying to be set on a copy of a slice from a DataFrame.\n",
      "Try using .loc[row_indexer,col_indexer] = value instead\n",
      "\n",
      "See the caveats in the documentation: https://pandas.pydata.org/pandas-docs/stable/user_guide/indexing.html#returning-a-view-versus-a-copy\n",
      "  df[\"duplicated_questions\"] = df[\"id\"].apply(lambda qid: flat_df[flat_df[\"id\"] == qid][\"dq_id\"].tolist())\n"
     ]
    },
    {
     "data": {
      "text/html": [
       "<div>\n",
       "<style scoped>\n",
       "    .dataframe tbody tr th:only-of-type {\n",
       "        vertical-align: middle;\n",
       "    }\n",
       "\n",
       "    .dataframe tbody tr th {\n",
       "        vertical-align: top;\n",
       "    }\n",
       "\n",
       "    .dataframe thead th {\n",
       "        text-align: right;\n",
       "    }\n",
       "</style>\n",
       "<table border=\"1\" class=\"dataframe\">\n",
       "  <thead>\n",
       "    <tr style=\"text-align: right;\">\n",
       "      <th></th>\n",
       "      <th>text</th>\n",
       "      <th>id</th>\n",
       "      <th>duplicated_questions</th>\n",
       "      <th>length</th>\n",
       "    </tr>\n",
       "  </thead>\n",
       "  <tbody>\n",
       "    <tr>\n",
       "      <th>0</th>\n",
       "      <td>What is the step by step guide to invest in sh...</td>\n",
       "      <td>1</td>\n",
       "      <td>[2]</td>\n",
       "      <td>1</td>\n",
       "    </tr>\n",
       "    <tr>\n",
       "      <th>1</th>\n",
       "      <td>What is the step by step guide to invest in sh...</td>\n",
       "      <td>2</td>\n",
       "      <td>[1]</td>\n",
       "      <td>1</td>\n",
       "    </tr>\n",
       "    <tr>\n",
       "      <th>5</th>\n",
       "      <td>What is the story of Kohinoor (Koh-i-Noor) Dia...</td>\n",
       "      <td>3</td>\n",
       "      <td>[4]</td>\n",
       "      <td>1</td>\n",
       "    </tr>\n",
       "    <tr>\n",
       "      <th>6</th>\n",
       "      <td>What would happen if the Indian government sto...</td>\n",
       "      <td>4</td>\n",
       "      <td>[3]</td>\n",
       "      <td>1</td>\n",
       "    </tr>\n",
       "    <tr>\n",
       "      <th>8</th>\n",
       "      <td>How can I increase the speed of my internet co...</td>\n",
       "      <td>5</td>\n",
       "      <td>[6]</td>\n",
       "      <td>1</td>\n",
       "    </tr>\n",
       "  </tbody>\n",
       "</table>\n",
       "</div>"
      ],
      "text/plain": [
       "                                                text  id duplicated_questions  \\\n",
       "0  What is the step by step guide to invest in sh...   1                  [2]   \n",
       "1  What is the step by step guide to invest in sh...   2                  [1]   \n",
       "5  What is the story of Kohinoor (Koh-i-Noor) Dia...   3                  [4]   \n",
       "6  What would happen if the Indian government sto...   4                  [3]   \n",
       "8  How can I increase the speed of my internet co...   5                  [6]   \n",
       "\n",
       "   length  \n",
       "0       1  \n",
       "1       1  \n",
       "5       1  \n",
       "6       1  \n",
       "8       1  "
      ]
     },
     "execution_count": 48,
     "metadata": {},
     "output_type": "execute_result"
    }
   ],
   "source": [
    "# 각 질문 하나당 중복되는 질문 id를 list 형태로 저장\n",
    "df = flat_df.drop_duplicates(\"id\")\n",
    "# df = flat_df.head(10000)\n",
    "df[\"duplicated_questions\"] = df[\"id\"].apply(lambda qid: flat_df[flat_df[\"id\"] == qid][\"dq_id\"].tolist())\n",
    "df = df.drop(columns=[\"dq_id\", \"is_duplicate\"])\n",
    "df['length'] = [len(x) for x in df['duplicated_questions']]\n",
    "\n",
    "df.head()"
   ]
  },
  {
   "cell_type": "code",
   "execution_count": 28,
   "metadata": {},
   "outputs": [
    {
     "data": {
      "text/html": [
       "<div>\n",
       "<style scoped>\n",
       "    .dataframe tbody tr th:only-of-type {\n",
       "        vertical-align: middle;\n",
       "    }\n",
       "\n",
       "    .dataframe tbody tr th {\n",
       "        vertical-align: top;\n",
       "    }\n",
       "\n",
       "    .dataframe thead th {\n",
       "        text-align: right;\n",
       "    }\n",
       "</style>\n",
       "<table border=\"1\" class=\"dataframe\">\n",
       "  <thead>\n",
       "    <tr style=\"text-align: right;\">\n",
       "      <th></th>\n",
       "      <th>text</th>\n",
       "      <th>id</th>\n",
       "      <th>duplicated_questions</th>\n",
       "      <th>length</th>\n",
       "    </tr>\n",
       "  </thead>\n",
       "  <tbody>\n",
       "    <tr>\n",
       "      <th>14</th>\n",
       "      <td>What would a Trump presidency mean for current...</td>\n",
       "      <td>31</td>\n",
       "      <td>[6937, 12544, 11435, 32, 1101]</td>\n",
       "      <td>5</td>\n",
       "    </tr>\n",
       "    <tr>\n",
       "      <th>24</th>\n",
       "      <td>How will a Trump presidency affect the student...</td>\n",
       "      <td>32</td>\n",
       "      <td>[2067, 1100, 6937, 12544, 31, 1101, 2066, 1143...</td>\n",
       "      <td>10</td>\n",
       "    </tr>\n",
       "    <tr>\n",
       "      <th>46</th>\n",
       "      <td>Why are so many Quora users posting questions ...</td>\n",
       "      <td>37</td>\n",
       "      <td>[12639, 1358, 4951, 1357, 6551, 38]</td>\n",
       "      <td>6</td>\n",
       "    </tr>\n",
       "    <tr>\n",
       "      <th>63</th>\n",
       "      <td>Why do people ask Quora questions which can be...</td>\n",
       "      <td>38</td>\n",
       "      <td>[4950, 4407, 4408, 6552, 6551, 12638, 5041, 12...</td>\n",
       "      <td>14</td>\n",
       "    </tr>\n",
       "    <tr>\n",
       "      <th>126</th>\n",
       "      <td>What is best way to make money online?</td>\n",
       "      <td>57</td>\n",
       "      <td>[6800, 12851, 13144, 6099, 4038, 8037, 6799, 1...</td>\n",
       "      <td>23</td>\n",
       "    </tr>\n",
       "    <tr>\n",
       "      <th>...</th>\n",
       "      <td>...</td>\n",
       "      <td>...</td>\n",
       "      <td>...</td>\n",
       "      <td>...</td>\n",
       "    </tr>\n",
       "    <tr>\n",
       "      <th>33080</th>\n",
       "      <td>What are the safety precautions on handling sh...</td>\n",
       "      <td>14966</td>\n",
       "      <td>[1596, 10671, 12719, 8119, 5903, 5434, 1595, 1...</td>\n",
       "      <td>10</td>\n",
       "    </tr>\n",
       "    <tr>\n",
       "      <th>33112</th>\n",
       "      <td>How did the 2016 US election polls get it so w...</td>\n",
       "      <td>14976</td>\n",
       "      <td>[14977, 10435, 10434]</td>\n",
       "      <td>3</td>\n",
       "    </tr>\n",
       "    <tr>\n",
       "      <th>33122</th>\n",
       "      <td>Why were the polls so inaccurate in the 2016 e...</td>\n",
       "      <td>14977</td>\n",
       "      <td>[10435, 14976]</td>\n",
       "      <td>2</td>\n",
       "    </tr>\n",
       "    <tr>\n",
       "      <th>33152</th>\n",
       "      <td>What is it like to lose 30 pounds in one month?</td>\n",
       "      <td>14992</td>\n",
       "      <td>[9736, 9737]</td>\n",
       "      <td>2</td>\n",
       "    </tr>\n",
       "    <tr>\n",
       "      <th>33163</th>\n",
       "      <td>When a question on Quora is marked as 'needing...</td>\n",
       "      <td>14999</td>\n",
       "      <td>[966, 2929, 2930, 11797, 967]</td>\n",
       "      <td>5</td>\n",
       "    </tr>\n",
       "  </tbody>\n",
       "</table>\n",
       "<p>1416 rows × 4 columns</p>\n",
       "</div>"
      ],
      "text/plain": [
       "                                                    text     id  \\\n",
       "14     What would a Trump presidency mean for current...     31   \n",
       "24     How will a Trump presidency affect the student...     32   \n",
       "46     Why are so many Quora users posting questions ...     37   \n",
       "63     Why do people ask Quora questions which can be...     38   \n",
       "126               What is best way to make money online?     57   \n",
       "...                                                  ...    ...   \n",
       "33080  What are the safety precautions on handling sh...  14966   \n",
       "33112  How did the 2016 US election polls get it so w...  14976   \n",
       "33122  Why were the polls so inaccurate in the 2016 e...  14977   \n",
       "33152    What is it like to lose 30 pounds in one month?  14992   \n",
       "33163  When a question on Quora is marked as 'needing...  14999   \n",
       "\n",
       "                                    duplicated_questions  length  \n",
       "14                        [6937, 12544, 11435, 32, 1101]       5  \n",
       "24     [2067, 1100, 6937, 12544, 31, 1101, 2066, 1143...      10  \n",
       "46                   [12639, 1358, 4951, 1357, 6551, 38]       6  \n",
       "63     [4950, 4407, 4408, 6552, 6551, 12638, 5041, 12...      14  \n",
       "126    [6800, 12851, 13144, 6099, 4038, 8037, 6799, 1...      23  \n",
       "...                                                  ...     ...  \n",
       "33080  [1596, 10671, 12719, 8119, 5903, 5434, 1595, 1...      10  \n",
       "33112                              [14977, 10435, 10434]       3  \n",
       "33122                                     [10435, 14976]       2  \n",
       "33152                                       [9736, 9737]       2  \n",
       "33163                      [966, 2929, 2930, 11797, 967]       5  \n",
       "\n",
       "[1416 rows x 4 columns]"
      ]
     },
     "execution_count": 28,
     "metadata": {},
     "output_type": "execute_result"
    }
   ],
   "source": [
    "df.loc[df['length']>1]"
   ]
  },
  {
   "cell_type": "code",
   "execution_count": 29,
   "metadata": {},
   "outputs": [],
   "source": [
    "df.to_csv(\"quora_dataset.csv\", index=False)"
   ]
  },
  {
   "cell_type": "code",
   "execution_count": 30,
   "metadata": {},
   "outputs": [
    {
     "data": {
      "text/plain": [
       "(5539, 4)"
      ]
     },
     "execution_count": 30,
     "metadata": {},
     "output_type": "execute_result"
    }
   ],
   "source": [
    "df.shape"
   ]
  },
  {
   "cell_type": "markdown",
   "metadata": {},
   "source": [
    "# 3. ABC News dataset"
   ]
  },
  {
   "cell_type": "markdown",
   "metadata": {},
   "source": [
    "![](https://s.abcnews.com/images/US/abc_news_default_2000x2000_update_16x9_992.jpg) <br>\n",
    "출처 : https://s.abcnews.com/images/US/abc_news_default_2000x2000_update_16x9_992.jpg"
   ]
  },
  {
   "cell_type": "markdown",
   "metadata": {},
   "source": [
    "- 다운로드 : https://www.kaggle.com/datasets/therohk/million-headlines"
   ]
  },
  {
   "cell_type": "code",
   "execution_count": 50,
   "metadata": {},
   "outputs": [],
   "source": [
    "df = pd.read_csv(\"abcnews.csv\")"
   ]
  },
  {
   "cell_type": "code",
   "execution_count": 51,
   "metadata": {},
   "outputs": [
    {
     "data": {
      "text/plain": [
       "(1244184, 2)"
      ]
     },
     "execution_count": 51,
     "metadata": {},
     "output_type": "execute_result"
    }
   ],
   "source": [
    "df.shape"
   ]
  },
  {
   "cell_type": "code",
   "execution_count": 52,
   "metadata": {},
   "outputs": [
    {
     "data": {
      "text/html": [
       "<div>\n",
       "<style scoped>\n",
       "    .dataframe tbody tr th:only-of-type {\n",
       "        vertical-align: middle;\n",
       "    }\n",
       "\n",
       "    .dataframe tbody tr th {\n",
       "        vertical-align: top;\n",
       "    }\n",
       "\n",
       "    .dataframe thead th {\n",
       "        text-align: right;\n",
       "    }\n",
       "</style>\n",
       "<table border=\"1\" class=\"dataframe\">\n",
       "  <thead>\n",
       "    <tr style=\"text-align: right;\">\n",
       "      <th></th>\n",
       "      <th>publish_date</th>\n",
       "      <th>headline_text</th>\n",
       "    </tr>\n",
       "  </thead>\n",
       "  <tbody>\n",
       "    <tr>\n",
       "      <th>0</th>\n",
       "      <td>20030219</td>\n",
       "      <td>aba decides against community broadcasting lic...</td>\n",
       "    </tr>\n",
       "    <tr>\n",
       "      <th>1</th>\n",
       "      <td>20030219</td>\n",
       "      <td>act fire witnesses must be aware of defamation</td>\n",
       "    </tr>\n",
       "    <tr>\n",
       "      <th>2</th>\n",
       "      <td>20030219</td>\n",
       "      <td>a g calls for infrastructure protection summit</td>\n",
       "    </tr>\n",
       "    <tr>\n",
       "      <th>3</th>\n",
       "      <td>20030219</td>\n",
       "      <td>air nz staff in aust strike for pay rise</td>\n",
       "    </tr>\n",
       "    <tr>\n",
       "      <th>4</th>\n",
       "      <td>20030219</td>\n",
       "      <td>air nz strike to affect australian travellers</td>\n",
       "    </tr>\n",
       "  </tbody>\n",
       "</table>\n",
       "</div>"
      ],
      "text/plain": [
       "   publish_date                                      headline_text\n",
       "0      20030219  aba decides against community broadcasting lic...\n",
       "1      20030219     act fire witnesses must be aware of defamation\n",
       "2      20030219     a g calls for infrastructure protection summit\n",
       "3      20030219           air nz staff in aust strike for pay rise\n",
       "4      20030219      air nz strike to affect australian travellers"
      ]
     },
     "execution_count": 52,
     "metadata": {},
     "output_type": "execute_result"
    }
   ],
   "source": [
    "df.head()"
   ]
  },
  {
   "cell_type": "code",
   "execution_count": 53,
   "metadata": {},
   "outputs": [
    {
     "data": {
      "text/plain": [
       "(20211231, 20030219)"
      ]
     },
     "execution_count": 53,
     "metadata": {},
     "output_type": "execute_result"
    }
   ],
   "source": [
    "df.publish_date.max(), df.publish_date.min()"
   ]
  },
  {
   "cell_type": "code",
   "execution_count": 64,
   "metadata": {},
   "outputs": [],
   "source": [
    "news_2020 = df.loc[(df['publish_date']>=20200101) & (df['publish_date']<20200201)].reset_index(drop=True)"
   ]
  },
  {
   "cell_type": "code",
   "execution_count": 65,
   "metadata": {},
   "outputs": [
    {
     "data": {
      "text/html": [
       "<div>\n",
       "<style scoped>\n",
       "    .dataframe tbody tr th:only-of-type {\n",
       "        vertical-align: middle;\n",
       "    }\n",
       "\n",
       "    .dataframe tbody tr th {\n",
       "        vertical-align: top;\n",
       "    }\n",
       "\n",
       "    .dataframe thead th {\n",
       "        text-align: right;\n",
       "    }\n",
       "</style>\n",
       "<table border=\"1\" class=\"dataframe\">\n",
       "  <thead>\n",
       "    <tr style=\"text-align: right;\">\n",
       "      <th></th>\n",
       "      <th>publish_date</th>\n",
       "      <th>headline_text</th>\n",
       "    </tr>\n",
       "  </thead>\n",
       "  <tbody>\n",
       "    <tr>\n",
       "      <th>0</th>\n",
       "      <td>20200101</td>\n",
       "      <td>a new type of resolution for the new year</td>\n",
       "    </tr>\n",
       "    <tr>\n",
       "      <th>1</th>\n",
       "      <td>20200101</td>\n",
       "      <td>adelaide records driest year in more than a de...</td>\n",
       "    </tr>\n",
       "    <tr>\n",
       "      <th>2</th>\n",
       "      <td>20200101</td>\n",
       "      <td>adelaide riverbank catches alight after new ye...</td>\n",
       "    </tr>\n",
       "    <tr>\n",
       "      <th>3</th>\n",
       "      <td>20200101</td>\n",
       "      <td>adelaides 9pm fireworks spark blaze on riverbank</td>\n",
       "    </tr>\n",
       "    <tr>\n",
       "      <th>4</th>\n",
       "      <td>20200101</td>\n",
       "      <td>archaic legislation governing nt women propert...</td>\n",
       "    </tr>\n",
       "    <tr>\n",
       "      <th>...</th>\n",
       "      <td>...</td>\n",
       "      <td>...</td>\n",
       "    </tr>\n",
       "    <tr>\n",
       "      <th>2442</th>\n",
       "      <td>20200131</td>\n",
       "      <td>who coronavirus global emergency</td>\n",
       "    </tr>\n",
       "    <tr>\n",
       "      <th>2443</th>\n",
       "      <td>20200131</td>\n",
       "      <td>who declares coronavirus outbreak as global he...</td>\n",
       "    </tr>\n",
       "    <tr>\n",
       "      <th>2444</th>\n",
       "      <td>20200131</td>\n",
       "      <td>will travel insurance cover trip cancelled ove...</td>\n",
       "    </tr>\n",
       "    <tr>\n",
       "      <th>2445</th>\n",
       "      <td>20200131</td>\n",
       "      <td>world youngest leader 33 years old offers hope...</td>\n",
       "    </tr>\n",
       "    <tr>\n",
       "      <th>2446</th>\n",
       "      <td>20200131</td>\n",
       "      <td>wuhan evacuation form</td>\n",
       "    </tr>\n",
       "  </tbody>\n",
       "</table>\n",
       "<p>2447 rows × 2 columns</p>\n",
       "</div>"
      ],
      "text/plain": [
       "      publish_date                                      headline_text\n",
       "0         20200101          a new type of resolution for the new year\n",
       "1         20200101  adelaide records driest year in more than a de...\n",
       "2         20200101  adelaide riverbank catches alight after new ye...\n",
       "3         20200101   adelaides 9pm fireworks spark blaze on riverbank\n",
       "4         20200101  archaic legislation governing nt women propert...\n",
       "...            ...                                                ...\n",
       "2442      20200131                   who coronavirus global emergency\n",
       "2443      20200131  who declares coronavirus outbreak as global he...\n",
       "2444      20200131  will travel insurance cover trip cancelled ove...\n",
       "2445      20200131  world youngest leader 33 years old offers hope...\n",
       "2446      20200131                              wuhan evacuation form\n",
       "\n",
       "[2447 rows x 2 columns]"
      ]
     },
     "execution_count": 65,
     "metadata": {},
     "output_type": "execute_result"
    }
   ],
   "source": [
    "news_2020"
   ]
  },
  {
   "cell_type": "code",
   "execution_count": 66,
   "metadata": {},
   "outputs": [],
   "source": [
    "news_2020.to_csv(\"abcnews_2020.csv\", index=False)"
   ]
  },
  {
   "cell_type": "markdown",
   "metadata": {},
   "source": [
    "--END--"
   ]
  }
 ],
 "metadata": {
  "kernelspec": {
   "display_name": "fastcampus",
   "language": "python",
   "name": "python3"
  },
  "language_info": {
   "codemirror_mode": {
    "name": "ipython",
    "version": 3
   },
   "file_extension": ".py",
   "mimetype": "text/x-python",
   "name": "python",
   "nbconvert_exporter": "python",
   "pygments_lexer": "ipython3",
   "version": "3.11.7"
  }
 },
 "nbformat": 4,
 "nbformat_minor": 2
}
